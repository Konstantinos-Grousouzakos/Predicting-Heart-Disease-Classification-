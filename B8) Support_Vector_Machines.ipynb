{
 "cells": [
  {
   "cell_type": "markdown",
   "id": "644b6343",
   "metadata": {},
   "source": [
    "# SUPPORT VECTOR MACHINES"
   ]
  },
  {
   "cell_type": "markdown",
   "id": "50cb8a10",
   "metadata": {},
   "source": [
    "## CONTENTS\n",
    "\n",
    "__1. INTRODUCTION__\n",
    "      \n",
    "      \n",
    "__2. LIBRARIES AND DATA__\n",
    "\n",
    "\n",
    "__3. PREPROCESSING__\n",
    "            \n",
    "            \n",
    "__4.SUPPORT VECTOR MACHINES__\n",
    "\n",
    "\n",
    "__5. RESULTS__\n"
   ]
  },
  {
   "cell_type": "markdown",
   "id": "405a143f",
   "metadata": {},
   "source": [
    "## 1. INTRODUCTION"
   ]
  },
  {
   "cell_type": "markdown",
   "id": "2262a867",
   "metadata": {},
   "source": [
    "In this Jupyter Notebook, we'll employ the Support Vector Machines method. \n",
    "\n",
    "To assess model performance, we'll compute the metrics accuracy and recall in three different versions : 1) calculated from the training data, 2) cross validated version and 3) calculated from the test data"
   ]
  },
  {
   "cell_type": "markdown",
   "id": "ec951c3c",
   "metadata": {},
   "source": [
    "## 2. LIBRARIES AND DATA"
   ]
  },
  {
   "cell_type": "markdown",
   "id": "4e4b0c94",
   "metadata": {},
   "source": [
    "__Libraries__"
   ]
  },
  {
   "cell_type": "code",
   "execution_count": 1,
   "id": "b5d2b5e5",
   "metadata": {},
   "outputs": [],
   "source": [
    "import pandas as pd\n",
    "import numpy as np\n",
    "import statsmodels.api as sm\n",
    "import matplotlib.pyplot as plt\n",
    "import seaborn as sns\n",
    "\n",
    "from sklearn.svm import SVC\n",
    "from sklearn.model_selection import cross_val_score, KFold\n",
    "from sklearn.metrics import accuracy_score, recall_score\n",
    "from sklearn.preprocessing import StandardScaler\n",
    "from sklearn.model_selection import GridSearchCV\n",
    "from sklearn.metrics import confusion_matrix, ConfusionMatrixDisplay\n",
    "from sklearn.exceptions import FitFailedWarning\n",
    "\n",
    "import warnings\n",
    "warnings.simplefilter(action='ignore', category=FutureWarning)\n",
    "warnings.filterwarnings('ignore', category=FitFailedWarning)\n",
    "warnings.filterwarnings('ignore', category=UserWarning)"
   ]
  },
  {
   "cell_type": "markdown",
   "id": "007fef6c",
   "metadata": {},
   "source": [
    "__Importing data__"
   ]
  },
  {
   "cell_type": "code",
   "execution_count": 2,
   "id": "82a1e225",
   "metadata": {},
   "outputs": [],
   "source": [
    "data1 = pd.read_csv(\"train_dataset.csv\") \n",
    "data2 = pd.read_csv(\"test_dataset.csv\") \n",
    "\n",
    "# Train and test Dataset\n",
    "train_df = data1.copy()\n",
    "test_df = data2.copy()"
   ]
  },
  {
   "cell_type": "code",
   "execution_count": 3,
   "id": "82029d4b",
   "metadata": {},
   "outputs": [
    {
     "data": {
      "text/html": [
       "<div>\n",
       "<style scoped>\n",
       "    .dataframe tbody tr th:only-of-type {\n",
       "        vertical-align: middle;\n",
       "    }\n",
       "\n",
       "    .dataframe tbody tr th {\n",
       "        vertical-align: top;\n",
       "    }\n",
       "\n",
       "    .dataframe thead th {\n",
       "        text-align: right;\n",
       "    }\n",
       "</style>\n",
       "<table border=\"1\" class=\"dataframe\">\n",
       "  <thead>\n",
       "    <tr style=\"text-align: right;\">\n",
       "      <th></th>\n",
       "      <th>Age</th>\n",
       "      <th>Sex</th>\n",
       "      <th>RestBP</th>\n",
       "      <th>Chol</th>\n",
       "      <th>Fbs</th>\n",
       "      <th>RestECG</th>\n",
       "      <th>MaxHR</th>\n",
       "      <th>ExAng</th>\n",
       "      <th>Oldpeak</th>\n",
       "      <th>Slope</th>\n",
       "      <th>Ca</th>\n",
       "      <th>ChestPain_asymptomatic</th>\n",
       "      <th>ChestPain_nontypical</th>\n",
       "      <th>ChestPain_typical</th>\n",
       "      <th>Thal_fixed</th>\n",
       "      <th>Thal_normal</th>\n",
       "      <th>AHD</th>\n",
       "    </tr>\n",
       "  </thead>\n",
       "  <tbody>\n",
       "    <tr>\n",
       "      <th>0</th>\n",
       "      <td>60</td>\n",
       "      <td>1</td>\n",
       "      <td>130</td>\n",
       "      <td>253</td>\n",
       "      <td>0</td>\n",
       "      <td>0</td>\n",
       "      <td>144</td>\n",
       "      <td>1</td>\n",
       "      <td>1.4</td>\n",
       "      <td>1</td>\n",
       "      <td>1</td>\n",
       "      <td>1</td>\n",
       "      <td>0</td>\n",
       "      <td>0</td>\n",
       "      <td>0</td>\n",
       "      <td>0</td>\n",
       "      <td>1</td>\n",
       "    </tr>\n",
       "    <tr>\n",
       "      <th>1</th>\n",
       "      <td>65</td>\n",
       "      <td>0</td>\n",
       "      <td>155</td>\n",
       "      <td>269</td>\n",
       "      <td>0</td>\n",
       "      <td>0</td>\n",
       "      <td>148</td>\n",
       "      <td>0</td>\n",
       "      <td>0.8</td>\n",
       "      <td>1</td>\n",
       "      <td>0</td>\n",
       "      <td>0</td>\n",
       "      <td>0</td>\n",
       "      <td>0</td>\n",
       "      <td>0</td>\n",
       "      <td>1</td>\n",
       "      <td>0</td>\n",
       "    </tr>\n",
       "  </tbody>\n",
       "</table>\n",
       "</div>"
      ],
      "text/plain": [
       "   Age  Sex  RestBP  Chol  Fbs  RestECG  MaxHR  ExAng  Oldpeak  Slope  Ca  \\\n",
       "0   60    1     130   253    0        0    144      1      1.4      1   1   \n",
       "1   65    0     155   269    0        0    148      0      0.8      1   0   \n",
       "\n",
       "   ChestPain_asymptomatic  ChestPain_nontypical  ChestPain_typical  \\\n",
       "0                       1                     0                  0   \n",
       "1                       0                     0                  0   \n",
       "\n",
       "   Thal_fixed  Thal_normal  AHD  \n",
       "0           0            0    1  \n",
       "1           0            1    0  "
      ]
     },
     "execution_count": 3,
     "metadata": {},
     "output_type": "execute_result"
    }
   ],
   "source": [
    "train_df.head(2)"
   ]
  },
  {
   "cell_type": "code",
   "execution_count": 4,
   "id": "61eb5070",
   "metadata": {},
   "outputs": [
    {
     "data": {
      "text/html": [
       "<div>\n",
       "<style scoped>\n",
       "    .dataframe tbody tr th:only-of-type {\n",
       "        vertical-align: middle;\n",
       "    }\n",
       "\n",
       "    .dataframe tbody tr th {\n",
       "        vertical-align: top;\n",
       "    }\n",
       "\n",
       "    .dataframe thead th {\n",
       "        text-align: right;\n",
       "    }\n",
       "</style>\n",
       "<table border=\"1\" class=\"dataframe\">\n",
       "  <thead>\n",
       "    <tr style=\"text-align: right;\">\n",
       "      <th></th>\n",
       "      <th>Age</th>\n",
       "      <th>Sex</th>\n",
       "      <th>RestBP</th>\n",
       "      <th>Chol</th>\n",
       "      <th>Fbs</th>\n",
       "      <th>RestECG</th>\n",
       "      <th>MaxHR</th>\n",
       "      <th>ExAng</th>\n",
       "      <th>Oldpeak</th>\n",
       "      <th>Slope</th>\n",
       "      <th>Ca</th>\n",
       "      <th>ChestPain_asymptomatic</th>\n",
       "      <th>ChestPain_nontypical</th>\n",
       "      <th>ChestPain_typical</th>\n",
       "      <th>Thal_fixed</th>\n",
       "      <th>Thal_normal</th>\n",
       "      <th>AHD</th>\n",
       "    </tr>\n",
       "  </thead>\n",
       "  <tbody>\n",
       "    <tr>\n",
       "      <th>0</th>\n",
       "      <td>66</td>\n",
       "      <td>1</td>\n",
       "      <td>112</td>\n",
       "      <td>212</td>\n",
       "      <td>0</td>\n",
       "      <td>2</td>\n",
       "      <td>132</td>\n",
       "      <td>1</td>\n",
       "      <td>0.1</td>\n",
       "      <td>1</td>\n",
       "      <td>1</td>\n",
       "      <td>1</td>\n",
       "      <td>0</td>\n",
       "      <td>0</td>\n",
       "      <td>0</td>\n",
       "      <td>1</td>\n",
       "      <td>1</td>\n",
       "    </tr>\n",
       "    <tr>\n",
       "      <th>1</th>\n",
       "      <td>64</td>\n",
       "      <td>1</td>\n",
       "      <td>128</td>\n",
       "      <td>263</td>\n",
       "      <td>0</td>\n",
       "      <td>0</td>\n",
       "      <td>105</td>\n",
       "      <td>1</td>\n",
       "      <td>0.2</td>\n",
       "      <td>2</td>\n",
       "      <td>1</td>\n",
       "      <td>1</td>\n",
       "      <td>0</td>\n",
       "      <td>0</td>\n",
       "      <td>0</td>\n",
       "      <td>0</td>\n",
       "      <td>0</td>\n",
       "    </tr>\n",
       "  </tbody>\n",
       "</table>\n",
       "</div>"
      ],
      "text/plain": [
       "   Age  Sex  RestBP  Chol  Fbs  RestECG  MaxHR  ExAng  Oldpeak  Slope  Ca  \\\n",
       "0   66    1     112   212    0        2    132      1      0.1      1   1   \n",
       "1   64    1     128   263    0        0    105      1      0.2      2   1   \n",
       "\n",
       "   ChestPain_asymptomatic  ChestPain_nontypical  ChestPain_typical  \\\n",
       "0                       1                     0                  0   \n",
       "1                       1                     0                  0   \n",
       "\n",
       "   Thal_fixed  Thal_normal  AHD  \n",
       "0           0            1    1  \n",
       "1           0            0    0  "
      ]
     },
     "execution_count": 4,
     "metadata": {},
     "output_type": "execute_result"
    }
   ],
   "source": [
    "test_df.head(2)"
   ]
  },
  {
   "cell_type": "markdown",
   "id": "eb69ad3d",
   "metadata": {},
   "source": [
    "## 3. LIBRARIES AND DATA"
   ]
  },
  {
   "cell_type": "code",
   "execution_count": 5,
   "id": "4d4cc764",
   "metadata": {},
   "outputs": [],
   "source": [
    "# Defining kfold validation\n",
    "cv = KFold(n_splits=5) "
   ]
  },
  {
   "cell_type": "code",
   "execution_count": 6,
   "id": "632461c5",
   "metadata": {},
   "outputs": [],
   "source": [
    "# Defining X_train, Y_train, X_test, Y_test\n",
    "X_train = train_df.drop(columns = 'AHD')\n",
    "Y_train = train_df['AHD']\n",
    "\n",
    "X_test = test_df.drop(columns = 'AHD')\n",
    "Y_test = test_df['AHD']\n",
    "\n",
    "# Creating lists with the columns names\n",
    "cols = X_train.columns\n",
    "\n",
    "# Scaling the Xs\n",
    "X_train_sc = StandardScaler().fit_transform(X_train)\n",
    "X_test_sc = StandardScaler().fit_transform(X_test)\n",
    "\n",
    "# Creating Dataframes\n",
    "X_train = pd.DataFrame(X_train_sc, columns=cols)\n",
    "X_test = pd.DataFrame(X_test_sc, columns=cols)"
   ]
  },
  {
   "cell_type": "code",
   "execution_count": 7,
   "id": "ee66aff3",
   "metadata": {},
   "outputs": [
    {
     "data": {
      "text/html": [
       "<div>\n",
       "<style scoped>\n",
       "    .dataframe tbody tr th:only-of-type {\n",
       "        vertical-align: middle;\n",
       "    }\n",
       "\n",
       "    .dataframe tbody tr th {\n",
       "        vertical-align: top;\n",
       "    }\n",
       "\n",
       "    .dataframe thead th {\n",
       "        text-align: right;\n",
       "    }\n",
       "</style>\n",
       "<table border=\"1\" class=\"dataframe\">\n",
       "  <thead>\n",
       "    <tr style=\"text-align: right;\">\n",
       "      <th></th>\n",
       "      <th>Age</th>\n",
       "      <th>Sex</th>\n",
       "      <th>RestBP</th>\n",
       "      <th>Chol</th>\n",
       "      <th>Fbs</th>\n",
       "      <th>RestECG</th>\n",
       "      <th>MaxHR</th>\n",
       "      <th>ExAng</th>\n",
       "      <th>Oldpeak</th>\n",
       "      <th>Slope</th>\n",
       "      <th>Ca</th>\n",
       "      <th>ChestPain_asymptomatic</th>\n",
       "      <th>ChestPain_nontypical</th>\n",
       "      <th>ChestPain_typical</th>\n",
       "      <th>Thal_fixed</th>\n",
       "      <th>Thal_normal</th>\n",
       "    </tr>\n",
       "  </thead>\n",
       "  <tbody>\n",
       "    <tr>\n",
       "      <th>0</th>\n",
       "      <td>0.647200</td>\n",
       "      <td>0.688468</td>\n",
       "      <td>-0.096276</td>\n",
       "      <td>0.108440</td>\n",
       "      <td>-0.450367</td>\n",
       "      <td>-1.044172</td>\n",
       "      <td>-0.247911</td>\n",
       "      <td>1.452500</td>\n",
       "      <td>0.348432</td>\n",
       "      <td>-0.974559</td>\n",
       "      <td>0.323044</td>\n",
       "      <td>1.094658</td>\n",
       "      <td>-0.450367</td>\n",
       "      <td>-0.307279</td>\n",
       "      <td>-0.267261</td>\n",
       "      <td>-1.129949</td>\n",
       "    </tr>\n",
       "    <tr>\n",
       "      <th>1</th>\n",
       "      <td>1.219447</td>\n",
       "      <td>-1.452500</td>\n",
       "      <td>1.341100</td>\n",
       "      <td>0.439355</td>\n",
       "      <td>-0.450367</td>\n",
       "      <td>-1.044172</td>\n",
       "      <td>-0.075304</td>\n",
       "      <td>-0.688468</td>\n",
       "      <td>-0.192238</td>\n",
       "      <td>-0.974559</td>\n",
       "      <td>-0.719693</td>\n",
       "      <td>-0.913527</td>\n",
       "      <td>-0.450367</td>\n",
       "      <td>-0.307279</td>\n",
       "      <td>-0.267261</td>\n",
       "      <td>0.884995</td>\n",
       "    </tr>\n",
       "  </tbody>\n",
       "</table>\n",
       "</div>"
      ],
      "text/plain": [
       "        Age       Sex    RestBP      Chol       Fbs   RestECG     MaxHR  \\\n",
       "0  0.647200  0.688468 -0.096276  0.108440 -0.450367 -1.044172 -0.247911   \n",
       "1  1.219447 -1.452500  1.341100  0.439355 -0.450367 -1.044172 -0.075304   \n",
       "\n",
       "      ExAng   Oldpeak     Slope        Ca  ChestPain_asymptomatic  \\\n",
       "0  1.452500  0.348432 -0.974559  0.323044                1.094658   \n",
       "1 -0.688468 -0.192238 -0.974559 -0.719693               -0.913527   \n",
       "\n",
       "   ChestPain_nontypical  ChestPain_typical  Thal_fixed  Thal_normal  \n",
       "0             -0.450367          -0.307279   -0.267261    -1.129949  \n",
       "1             -0.450367          -0.307279   -0.267261     0.884995  "
      ]
     },
     "execution_count": 7,
     "metadata": {},
     "output_type": "execute_result"
    }
   ],
   "source": [
    "# Displaying X_train df\n",
    "X_train.head(2)"
   ]
  },
  {
   "cell_type": "code",
   "execution_count": 8,
   "id": "929fd6cc",
   "metadata": {},
   "outputs": [
    {
     "data": {
      "text/html": [
       "<div>\n",
       "<style scoped>\n",
       "    .dataframe tbody tr th:only-of-type {\n",
       "        vertical-align: middle;\n",
       "    }\n",
       "\n",
       "    .dataframe tbody tr th {\n",
       "        vertical-align: top;\n",
       "    }\n",
       "\n",
       "    .dataframe thead th {\n",
       "        text-align: right;\n",
       "    }\n",
       "</style>\n",
       "<table border=\"1\" class=\"dataframe\">\n",
       "  <thead>\n",
       "    <tr style=\"text-align: right;\">\n",
       "      <th></th>\n",
       "      <th>Age</th>\n",
       "      <th>Sex</th>\n",
       "      <th>RestBP</th>\n",
       "      <th>Chol</th>\n",
       "      <th>Fbs</th>\n",
       "      <th>RestECG</th>\n",
       "      <th>MaxHR</th>\n",
       "      <th>ExAng</th>\n",
       "      <th>Oldpeak</th>\n",
       "      <th>Slope</th>\n",
       "      <th>Ca</th>\n",
       "      <th>ChestPain_asymptomatic</th>\n",
       "      <th>ChestPain_nontypical</th>\n",
       "      <th>ChestPain_typical</th>\n",
       "      <th>Thal_fixed</th>\n",
       "      <th>Thal_normal</th>\n",
       "    </tr>\n",
       "  </thead>\n",
       "  <tbody>\n",
       "    <tr>\n",
       "      <th>0</th>\n",
       "      <td>1.091325</td>\n",
       "      <td>0.637377</td>\n",
       "      <td>-1.050215</td>\n",
       "      <td>-0.512118</td>\n",
       "      <td>-0.215666</td>\n",
       "      <td>1.346291</td>\n",
       "      <td>-0.844271</td>\n",
       "      <td>1.346291</td>\n",
       "      <td>-0.861072</td>\n",
       "      <td>-0.958706</td>\n",
       "      <td>0.743873</td>\n",
       "      <td>0.85485</td>\n",
       "      <td>-0.429198</td>\n",
       "      <td>-0.150756</td>\n",
       "      <td>-0.150756</td>\n",
       "      <td>0.894427</td>\n",
       "    </tr>\n",
       "    <tr>\n",
       "      <th>1</th>\n",
       "      <td>0.901345</td>\n",
       "      <td>0.637377</td>\n",
       "      <td>-0.181071</td>\n",
       "      <td>0.571118</td>\n",
       "      <td>-0.215666</td>\n",
       "      <td>-0.742781</td>\n",
       "      <td>-2.142737</td>\n",
       "      <td>1.346291</td>\n",
       "      <td>-0.760948</td>\n",
       "      <td>0.766965</td>\n",
       "      <td>0.743873</td>\n",
       "      <td>0.85485</td>\n",
       "      <td>-0.429198</td>\n",
       "      <td>-0.150756</td>\n",
       "      <td>-0.150756</td>\n",
       "      <td>-1.118034</td>\n",
       "    </tr>\n",
       "  </tbody>\n",
       "</table>\n",
       "</div>"
      ],
      "text/plain": [
       "        Age       Sex    RestBP      Chol       Fbs   RestECG     MaxHR  \\\n",
       "0  1.091325  0.637377 -1.050215 -0.512118 -0.215666  1.346291 -0.844271   \n",
       "1  0.901345  0.637377 -0.181071  0.571118 -0.215666 -0.742781 -2.142737   \n",
       "\n",
       "      ExAng   Oldpeak     Slope        Ca  ChestPain_asymptomatic  \\\n",
       "0  1.346291 -0.861072 -0.958706  0.743873                 0.85485   \n",
       "1  1.346291 -0.760948  0.766965  0.743873                 0.85485   \n",
       "\n",
       "   ChestPain_nontypical  ChestPain_typical  Thal_fixed  Thal_normal  \n",
       "0             -0.429198          -0.150756   -0.150756     0.894427  \n",
       "1             -0.429198          -0.150756   -0.150756    -1.118034  "
      ]
     },
     "execution_count": 8,
     "metadata": {},
     "output_type": "execute_result"
    }
   ],
   "source": [
    "# Displaying X_test df\n",
    "X_test.head(2)"
   ]
  },
  {
   "cell_type": "markdown",
   "id": "b4c00985",
   "metadata": {},
   "source": [
    "## 4. SUPPORT VECTOR MACHINES "
   ]
  },
  {
   "cell_type": "code",
   "execution_count": 9,
   "id": "5d732c91",
   "metadata": {},
   "outputs": [],
   "source": [
    "# Defining Grid for GridSearchCV\n",
    "grid = { 'C': [0.1, 1, 10, 100], \n",
    "    'kernel': ['linear', 'poly', 'rbf', 'sigmoid'], \n",
    "    'degree': [2, 3, 4], \n",
    "    'gamma': ['scale', 'auto'], \n",
    "    'coef0': [0.0, 0.1, 0.5],  \n",
    "    'shrinking': [True, False],  \n",
    "    'probability': [True],  \n",
    "    'class_weight': [None, 'balanced'], \n",
    "        'max_iter' : [-1]} "
   ]
  },
  {
   "cell_type": "code",
   "execution_count": 10,
   "id": "4e7244b2",
   "metadata": {},
   "outputs": [],
   "source": [
    "# Instantiating GridSearchCV \n",
    "\n",
    "SVC_search = GridSearchCV(SVC(), \n",
    "                         grid, scoring='recall', cv=cv, n_jobs=-1)"
   ]
  },
  {
   "cell_type": "code",
   "execution_count": 11,
   "id": "9e996fbc",
   "metadata": {},
   "outputs": [],
   "source": [
    "# Searching for the best parameters \n",
    "\n",
    "CV_SVC_results = SVC_search.fit(X_train, Y_train)"
   ]
  },
  {
   "cell_type": "code",
   "execution_count": 12,
   "id": "a6e6f9d4",
   "metadata": {},
   "outputs": [
    {
     "data": {
      "text/html": [
       "<div>\n",
       "<style scoped>\n",
       "    .dataframe tbody tr th:only-of-type {\n",
       "        vertical-align: middle;\n",
       "    }\n",
       "\n",
       "    .dataframe tbody tr th {\n",
       "        vertical-align: top;\n",
       "    }\n",
       "\n",
       "    .dataframe thead th {\n",
       "        text-align: right;\n",
       "    }\n",
       "</style>\n",
       "<table border=\"1\" class=\"dataframe\">\n",
       "  <thead>\n",
       "    <tr style=\"text-align: right;\">\n",
       "      <th></th>\n",
       "      <th>Best Parameters</th>\n",
       "    </tr>\n",
       "  </thead>\n",
       "  <tbody>\n",
       "    <tr>\n",
       "      <th>C</th>\n",
       "      <td>100</td>\n",
       "    </tr>\n",
       "    <tr>\n",
       "      <th>class_weight</th>\n",
       "      <td>None</td>\n",
       "    </tr>\n",
       "    <tr>\n",
       "      <th>coef0</th>\n",
       "      <td>0.1</td>\n",
       "    </tr>\n",
       "    <tr>\n",
       "      <th>degree</th>\n",
       "      <td>2</td>\n",
       "    </tr>\n",
       "    <tr>\n",
       "      <th>gamma</th>\n",
       "      <td>scale</td>\n",
       "    </tr>\n",
       "    <tr>\n",
       "      <th>kernel</th>\n",
       "      <td>sigmoid</td>\n",
       "    </tr>\n",
       "    <tr>\n",
       "      <th>max_iter</th>\n",
       "      <td>-1</td>\n",
       "    </tr>\n",
       "    <tr>\n",
       "      <th>probability</th>\n",
       "      <td>True</td>\n",
       "    </tr>\n",
       "    <tr>\n",
       "      <th>shrinking</th>\n",
       "      <td>True</td>\n",
       "    </tr>\n",
       "  </tbody>\n",
       "</table>\n",
       "</div>"
      ],
      "text/plain": [
       "             Best Parameters\n",
       "C                        100\n",
       "class_weight            None\n",
       "coef0                    0.1\n",
       "degree                     2\n",
       "gamma                  scale\n",
       "kernel               sigmoid\n",
       "max_iter                  -1\n",
       "probability             True\n",
       "shrinking               True"
      ]
     },
     "execution_count": 12,
     "metadata": {},
     "output_type": "execute_result"
    }
   ],
   "source": [
    "# Displaying the best parameters \n",
    "\n",
    "SVC_Best_Parameters = pd.DataFrame(CV_SVC_results.best_params_,\n",
    "                                       index = ['Best Parameters'])\n",
    "\n",
    "SVC_Best_Parameters = SVC_Best_Parameters.transpose()\n",
    "SVC_Best_Parameters"
   ]
  },
  {
   "cell_type": "code",
   "execution_count": 13,
   "id": "d8efa2d4",
   "metadata": {},
   "outputs": [],
   "source": [
    "# Storing the values of the best parameters\n",
    "\n",
    "best_C = CV_SVC_results.best_params_['C']\n",
    "best_class_weight = CV_SVC_results.best_params_['class_weight']\n",
    "best_coef0 = CV_SVC_results.best_params_['coef0']\n",
    "best_degree = CV_SVC_results.best_params_['degree']\n",
    "best_gamma = CV_SVC_results.best_params_['gamma']\n",
    "best_kernel = CV_SVC_results.best_params_['kernel']\n",
    "best_max_iter = CV_SVC_results.best_params_['max_iter']\n",
    "best_probability = CV_SVC_results.best_params_['probability']\n",
    "best_shrinking = CV_SVC_results.best_params_['shrinking']\n"
   ]
  },
  {
   "cell_type": "code",
   "execution_count": 14,
   "id": "a3c56d13",
   "metadata": {},
   "outputs": [],
   "source": [
    "# Instantiating the best model\n",
    "\n",
    "SVCModel = SVC(C = best_C,\n",
    "              class_weight=best_class_weight,\n",
    "              coef0=best_coef0,\n",
    "              degree=best_degree,\n",
    "              gamma=best_gamma,\n",
    "              kernel=best_kernel,\n",
    "              max_iter=best_max_iter,\n",
    "              probability=best_probability,\n",
    "              shrinking=best_shrinking).fit(X_train,Y_train)"
   ]
  },
  {
   "cell_type": "code",
   "execution_count": 15,
   "id": "8ff681e6",
   "metadata": {},
   "outputs": [],
   "source": [
    "# Getting training metrics\n",
    "\n",
    "training_predictions = SVCModel.predict(X_train)\n",
    "\n",
    "SVC_training_accuracy = np.round(accuracy_score(Y_train, training_predictions),3)\n",
    "SVC_training_recall = np.round(recall_score(Y_train, training_predictions),3)\n"
   ]
  },
  {
   "cell_type": "code",
   "execution_count": 16,
   "id": "dfa1c967",
   "metadata": {},
   "outputs": [],
   "source": [
    "# Getting kfold metrics \n",
    "\n",
    "svc_cv_accuracy = round(np.mean(cross_val_score(SVCModel, X_train, Y_train, cv=cv, \n",
    "                                          scoring='accuracy', error_score='raise')),3)\n",
    "\n",
    "\n",
    "svc_cv_recall = round(np.mean(cross_val_score(SVCModel, X_train, Y_train, cv=cv, \n",
    "                                          scoring='recall', error_score='raise')),3)"
   ]
  },
  {
   "cell_type": "code",
   "execution_count": 17,
   "id": "eb931623",
   "metadata": {},
   "outputs": [],
   "source": [
    "# Getting test metrics\n",
    "\n",
    "test_predictions = SVCModel.predict(X_test)\n",
    "SVC_test_accuracy = np.round(accuracy_score(Y_test, test_predictions),3)\n",
    "SVC_test_recall = np.round(recall_score(Y_test, test_predictions),3)"
   ]
  },
  {
   "cell_type": "code",
   "execution_count": 18,
   "id": "a6f4c412",
   "metadata": {},
   "outputs": [],
   "source": [
    "# Dictionary that holds the performance metrics \n",
    "\n",
    "dict1 = {'Support Vector Classifier': (SVC_training_accuracy, SVC_training_recall, \n",
    "                                 svc_cv_accuracy, svc_cv_recall,\n",
    "                                SVC_test_accuracy, SVC_test_recall)}"
   ]
  },
  {
   "cell_type": "code",
   "execution_count": 19,
   "id": "0b19acdc",
   "metadata": {},
   "outputs": [],
   "source": [
    "# Creating a dataframe to easily present the results \n",
    "\n",
    "Evaluation_df = pd.DataFrame(dict1, index=['Training Accuracy','Training Recall',\n",
    "                                           'CV Accuracy','CV Recall', \n",
    "                                           'Test Accuracy','Test Recall'])"
   ]
  },
  {
   "cell_type": "markdown",
   "id": "f2468ac1",
   "metadata": {},
   "source": [
    "## 5. Results"
   ]
  },
  {
   "cell_type": "markdown",
   "id": "6513c7fd",
   "metadata": {},
   "source": [
    "__Aggragated Results__"
   ]
  },
  {
   "cell_type": "code",
   "execution_count": 20,
   "id": "7af57fd5",
   "metadata": {
    "scrolled": true
   },
   "outputs": [
    {
     "data": {
      "text/html": [
       "<div>\n",
       "<style scoped>\n",
       "    .dataframe tbody tr th:only-of-type {\n",
       "        vertical-align: middle;\n",
       "    }\n",
       "\n",
       "    .dataframe tbody tr th {\n",
       "        vertical-align: top;\n",
       "    }\n",
       "\n",
       "    .dataframe thead th {\n",
       "        text-align: right;\n",
       "    }\n",
       "</style>\n",
       "<table border=\"1\" class=\"dataframe\">\n",
       "  <thead>\n",
       "    <tr style=\"text-align: right;\">\n",
       "      <th></th>\n",
       "      <th>Support Vector Classifier</th>\n",
       "    </tr>\n",
       "  </thead>\n",
       "  <tbody>\n",
       "    <tr>\n",
       "      <th>Training Accuracy</th>\n",
       "      <td>0.808</td>\n",
       "    </tr>\n",
       "    <tr>\n",
       "      <th>Training Recall</th>\n",
       "      <td>0.798</td>\n",
       "    </tr>\n",
       "    <tr>\n",
       "      <th>CV Accuracy</th>\n",
       "      <td>0.804</td>\n",
       "    </tr>\n",
       "    <tr>\n",
       "      <th>CV Recall</th>\n",
       "      <td>0.845</td>\n",
       "    </tr>\n",
       "    <tr>\n",
       "      <th>Test Accuracy</th>\n",
       "      <td>0.800</td>\n",
       "    </tr>\n",
       "    <tr>\n",
       "      <th>Test Recall</th>\n",
       "      <td>0.739</td>\n",
       "    </tr>\n",
       "  </tbody>\n",
       "</table>\n",
       "</div>"
      ],
      "text/plain": [
       "                   Support Vector Classifier\n",
       "Training Accuracy                      0.808\n",
       "Training Recall                        0.798\n",
       "CV Accuracy                            0.804\n",
       "CV Recall                              0.845\n",
       "Test Accuracy                          0.800\n",
       "Test Recall                            0.739"
      ]
     },
     "execution_count": 20,
     "metadata": {},
     "output_type": "execute_result"
    }
   ],
   "source": [
    "# Displaying the metrics\n",
    "\n",
    "Evaluation_df"
   ]
  },
  {
   "cell_type": "markdown",
   "id": "a0667299",
   "metadata": {},
   "source": [
    "__Confusion Matrices__"
   ]
  },
  {
   "cell_type": "code",
   "execution_count": 21,
   "id": "ca94986e",
   "metadata": {},
   "outputs": [
    {
     "data": {
      "image/png": "[encoded data removed]",
      "text/plain": [
       "<Figure size 640x480 with 2 Axes>"
      ]
     },
     "metadata": {},
     "output_type": "display_data"
    }
   ],
   "source": [
    "cm = confusion_matrix(Y_train, training_predictions, labels=SVCModel.classes_)\n",
    "disp = ConfusionMatrixDisplay(confusion_matrix=cm, display_labels=SVCModel.classes_)\n",
    "disp.plot()\n",
    "plt.title(\"Confusion Matrix of training data (Support Vector Classifier)\", fontsize = 14, weight = 'bold')\n",
    "plt.xlabel(\"Predicted class\", fontsize = 14)\n",
    "plt.ylabel(\"Actual class\", fontsize = 14)\n",
    "\n",
    "plt.xticks(ticks = [0,1], labels=['No AHD', 'AHD'])\n",
    "plt.yticks(ticks = [0,1], labels=['No AHD', 'AHD'])\n",
    "# plt.savefig('CM_tr_SVC')\n",
    "plt.show()"
   ]
  },
  {
   "cell_type": "code",
   "execution_count": 22,
   "id": "891768cf",
   "metadata": {
    "scrolled": false
   },
   "outputs": [
    {
     "data": {
      "image/png": "[encoded data removed]",
      "text/plain": [
       "<Figure size 640x480 with 2 Axes>"
      ]
     },
     "metadata": {},
     "output_type": "display_data"
    }
   ],
   "source": [
    "cm = confusion_matrix(Y_test, test_predictions, labels=SVCModel.classes_)\n",
    "disp = ConfusionMatrixDisplay(confusion_matrix=cm, display_labels=SVCModel.classes_)\n",
    "disp.plot()\n",
    "plt.title(\"Confusion Matrix of test data (Support Vector Classifier)\", fontsize = 14, weight = 'bold')\n",
    "plt.xlabel(\"Predicted class\", fontsize = 14)\n",
    "plt.ylabel(\"Actual class\", fontsize = 14)\n",
    "\n",
    "plt.xticks(ticks = [0,1], labels=['No AHD', 'AHD'])\n",
    "plt.yticks(ticks = [0,1], labels=['No AHD', 'AHD'])\n",
    "plt.savefig('CM_te_SVC')\n",
    "plt.show()"
   ]
  },
  {
   "cell_type": "markdown",
   "id": "9b0bab0f",
   "metadata": {},
   "source": [
    "__Saving the Results__"
   ]
  },
  {
   "cell_type": "code",
   "execution_count": 23,
   "id": "e4e781da",
   "metadata": {},
   "outputs": [],
   "source": [
    "Evaluation_df.to_csv(r'SVC_Results.csv', index=True, \n",
    "                                              index_label= 'Metrics')"
   ]
  }
 ],
 "metadata": {
  "kernelspec": {
   "display_name": "Python 3 (ipykernel)",
   "language": "python",
   "name": "python3"
  },
  "language_info": {
   "codemirror_mode": {
    "name": "ipython",
    "version": 3
   },
   "file_extension": ".py",
   "mimetype": "text/x-python",
   "name": "python",
   "nbconvert_exporter": "python",
   "pygments_lexer": "ipython3",
   "version": "3.11.5"
  }
 },
 "nbformat": 4,
 "nbformat_minor": 5
}
