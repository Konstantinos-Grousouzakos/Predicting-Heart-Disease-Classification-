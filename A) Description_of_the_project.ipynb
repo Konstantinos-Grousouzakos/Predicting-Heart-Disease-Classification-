{
 "cells": [
  {
   "cell_type": "markdown",
   "id": "f4885c6e",
   "metadata": {},
   "source": [
    "# DESCRIPTION OF THE PROJECT"
   ]
  },
  {
   "cell_type": "markdown",
   "id": "94857cb3",
   "metadata": {},
   "source": [
    "## Background"
   ]
  },
  {
   "cell_type": "markdown",
   "id": "1fe3ef89",
   "metadata": {},
   "source": [
    "The dataset in question is a component of the textbook \"Introduction to Statistical Learning.\"\n",
    "\n",
    "Hyperlink to dataset: https://www.statlearning.com/resources-python"
   ]
  },
  {
   "cell_type": "markdown",
   "id": "77d68c50",
   "metadata": {},
   "source": [
    "## Goal"
   ]
  },
  {
   "cell_type": "markdown",
   "id": "b27349c3",
   "metadata": {},
   "source": [
    "Our objective is to construct a predictive model to determine whether a patient has Heart Disease or not. Additionally, we aim to minimize Type I error, meaning we want to avoid misclassifying a patient as not having Heart Disease when they actually do. Therefore, the metric we prioritize for optimizing the models is recall."
   ]
  },
  {
   "cell_type": "markdown",
   "id": "289da3b3",
   "metadata": {},
   "source": [
    "## Data Dictionary"
   ]
  },
  {
   "cell_type": "markdown",
   "id": "17de642e",
   "metadata": {},
   "source": [
    "* Age: Age of the patient in years\n",
    "\n",
    "* Sex: Gender of the patient. 0: Female 1: Male\n",
    "\n",
    "* CP (Chest Pain Type): Type of chest pain experienced by the patient.\n",
    "\n",
    "* Trestbps (Resting Blood Pressure): Resting blood pressure of the patient in mm Hg on admission to the hospital.\n",
    "\n",
    "* Chol (Serum Cholesterol Level): Serum cholesterol level of the patient in mg/dl. \n",
    "\n",
    "* Fbs (Fasting Blood Sugar): Fasting blood sugar > 120 mg/dl. 0: False 1: True\n",
    "\n",
    "* Restecg (Resting Electrocardiographic Results): Resting electrocardiographic results.\n",
    "\n",
    "* Thalach (Maximum Heart Rate Achieved): Maximum heart rate achieved by the patient during exercise. \n",
    "\n",
    "* Exang (Exercise Induced Angina): Exercise-induced angina. 0: No 1: Yes\n",
    "\n",
    "* Oldpeak (ST Depression Induced by Exercise Relative to Rest): ST depression induced by exercise relative to rest. \n",
    "\n",
    "* Slope: The slope of the peak exercise ST segment.\n",
    "\n",
    "* CA (Number of Major Vessels Colored by Flourosopy): Number of major vessels colored by fluoroscopy. 0 to 3: Number of vessels\n",
    "\n",
    "* Thal (Thalassemia): Thalassemia.\n",
    "\n",
    "* AHD: Presence of heart disease."
   ]
  },
  {
   "cell_type": "markdown",
   "id": "78e2ccff",
   "metadata": {},
   "source": [
    "## Jupyter Notebooks"
   ]
  },
  {
   "cell_type": "markdown",
   "id": "24a09385",
   "metadata": {},
   "source": [
    "Inspect the Jupyter Notebooks in order:\n",
    "\n",
    "In \"__B1) Preprocessing_and_EDA__\", ee conducted a comprehensive examination and preprocessing of the dataset. This involved transforming categorical variables, addressing missing data, and managing outliers and high-leverage points. Additionally, we analyzed variable distributions in detail.\n",
    "\n",
    "To deepen our exploration, we utilized various visualization techniques such as boxplots and correlation matrices. These visualizations allowed us to visualize relationships within the data and identify underlying patterns.\n",
    "\n",
    "Finally, we split the dataset to facilitate model evaluation and validation.\n"
   ]
  },
  {
   "cell_type": "markdown",
   "id": "f74b3b57",
   "metadata": {},
   "source": [
    "From Notebooks B2 to B9, we implemented several methods to address the problem. The methods used include:\n",
    "\n",
    "    B2) Logistic Regression\n",
    "    B3) Linear Discriminant Analysis\n",
    "    B4) Quadratic Discriminant Analysis\n",
    "    B5) K-Nearest Neighbors\n",
    "    B6) Gaussian Naive Bayes\n",
    "    B7) Random Forest Classifier\n",
    "    B8) Support Vector Classifier\n",
    "    B9) XGBOOST\n"
   ]
  },
  {
   "cell_type": "markdown",
   "id": "93cbc421",
   "metadata": {},
   "source": [
    "Lastly, in \"__C) Results_and_Conclusions__\", we compare model performance metrics and identify the most accurate prediction method."
   ]
  },
  {
   "cell_type": "markdown",
   "id": "1f7a8b32",
   "metadata": {},
   "source": [
    "## Note 1: Scaling"
   ]
  },
  {
   "cell_type": "markdown",
   "id": "47515d95",
   "metadata": {},
   "source": [
    "The dataset underwent scaling prior to the application of any method."
   ]
  },
  {
   "cell_type": "markdown",
   "id": "4bea4ced",
   "metadata": {},
   "source": [
    "## Note 2: Optimization of models"
   ]
  },
  {
   "cell_type": "markdown",
   "id": "769e1ad7",
   "metadata": {},
   "source": [
    "For every model optimized through the GridSearchCV method, we determined the values of hyperparameters to be examined by referring to literature, articles, and also sought assistance from ChatGPT."
   ]
  },
  {
   "cell_type": "markdown",
   "id": "2018355b",
   "metadata": {},
   "source": [
    "## Note 3: Updates"
   ]
  },
  {
   "cell_type": "markdown",
   "id": "1866032b",
   "metadata": {},
   "source": [
    "In the future, we may consider incorporating additional methods."
   ]
  }
 ],
 "metadata": {
  "kernelspec": {
   "display_name": "Python 3 (ipykernel)",
   "language": "python",
   "name": "python3"
  },
  "language_info": {
   "codemirror_mode": {
    "name": "ipython",
    "version": 3
   },
   "file_extension": ".py",
   "mimetype": "text/x-python",
   "name": "python",
   "nbconvert_exporter": "python",
   "pygments_lexer": "ipython3",
   "version": "3.11.5"
  }
 },
 "nbformat": 4,
 "nbformat_minor": 5
}
